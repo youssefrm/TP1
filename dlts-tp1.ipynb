{
 "cells": [
  {
   "cell_type": "code",
   "execution_count": null,
   "id": "ea5ea00c",
   "metadata": {},
   "outputs": [],
   "source": [
    "from IPython.core.display import HTML\n",
    "HTML(\"\"\"\n",
    "<style>\n",
    ".consignes{\n",
    "  font-weight: bold;\n",
    "  color: #3256a8;\n",
    "  background-color: #edebdf\n",
    "}\n",
    "</style>\n",
    "\"\"\")\n",
    "\n"
   ]
  },
  {
   "cell_type": "markdown",
   "id": "4a7dfae7",
   "metadata": {},
   "source": [
    "# <div class=consignes>Deep Learning et traitement du signal TP 1 </div>\n",
    "<div class=consignes> L'objectif de ce TP est de prendre en main les outils de modélisation et d'analyse du signal présentés dans le premier cours et d'introduire la problématique de <it>détection</it> dont on parlera dans le cours numéro 3 </div>\n",
    "<div class=consignes>Deadline : 16 octobre 2024, 13h59, par mail à deepetsignal.mva@gmail.com <br> Effort estimé : 2 à 3 heures maximum</div>\n",
    "<div class=consignes>Le rendu de ce TP n'est pas obligatoire. Il permet d'obtenir un bonus de 1 (minimum syndical) à 3 (votre notebook servira de correction l'an prochain) points sur la moyenne des TP </div>"
   ]
  },
  {
   "cell_type": "markdown",
   "id": "6e7abc7e",
   "metadata": {},
   "source": [
    "<div class=consignes> Listez les noms des étudiants (2 au maximum) ayant participé à ce notebook dans la cellule suivante (prénom, nom).<br/>\n",
    "Au moment du rendu, le notebook doit être nommé nom1_nom2_dlts_tp1.ipynb </div>"
   ]
  },
  {
   "cell_type": "markdown",
   "id": "c4108afc",
   "metadata": {},
   "source": []
  },
  {
   "cell_type": "markdown",
   "id": "37cbd4a2",
   "metadata": {},
   "source": [
    "<div class=consignes>Si vous installez des paquets supplémentaires, merci de les lister dans la cellule suivante avec la syntaxe\n",
    "    \n",
    "```\n",
    "!pip install \\< nom_du_paquet \\>\n",
    "```\n",
    "    \n",
    "</div>"
   ]
  },
  {
   "cell_type": "code",
   "execution_count": null,
   "id": "0b0f6bba",
   "metadata": {},
   "outputs": [],
   "source": []
  },
  {
   "cell_type": "code",
   "execution_count": null,
   "id": "7dcdfdf7",
   "metadata": {},
   "outputs": [],
   "source": [
    "import numpy as np \n",
    "import matplotlib.pylab as plt \n",
    "import scipy\n",
    "import IPython.display as ipd"
   ]
  },
  {
   "cell_type": "markdown",
   "id": "f94e494e",
   "metadata": {},
   "source": [
    "## <div class=consignes>Partie 1: Audio </div>"
   ]
  },
  {
   "cell_type": "markdown",
   "id": "503d74e7",
   "metadata": {},
   "source": [
    "### <div class=consignes>Visualisation</div>"
   ]
  },
  {
   "cell_type": "markdown",
   "id": "b37e3b6f",
   "metadata": {},
   "source": [
    " <div class=consignes>Enregistrez un fichier wav de quelques secondes de votre voix. \n",
    "  <br>\n",
    " Importez le avec scipy.io.wavfile.read et écoutez le dans le notebook avec IPython.display.Audio\n",
    "</div>"
   ]
  },
  {
   "cell_type": "code",
   "execution_count": null,
   "id": "47a6ec3b",
   "metadata": {},
   "outputs": [],
   "source": []
  },
  {
   "cell_type": "markdown",
   "id": "b6e05d84",
   "metadata": {},
   "source": [
    "<div class=consignes>Visualisez la forme d'onde temporelle de ce signal audio. <br>\n",
    "Estimez et affichez sa Densité Spectrale de Puissance. <br>\n",
    "Donnez une interprétation de ce que vous observez. \n",
    "    </div>"
   ]
  },
  {
   "cell_type": "code",
   "execution_count": null,
   "id": "86efc1c7",
   "metadata": {},
   "outputs": [],
   "source": []
  },
  {
   "cell_type": "markdown",
   "id": "75382203",
   "metadata": {},
   "source": [
    "<div class=consignes> Calculez et affichez le spectrogramme du signal. <br>\n",
    "Justifiez du choix des réglages que vous avez faits. <br>\n",
    "Sélectionnez une portion pertinente du spectrogramme pour estimer visuellement le pitch de votre voix.\n",
    "    </div>"
   ]
  },
  {
   "cell_type": "code",
   "execution_count": null,
   "id": "230ef80d",
   "metadata": {},
   "outputs": [],
   "source": []
  },
  {
   "cell_type": "markdown",
   "id": "7270aed2",
   "metadata": {},
   "source": [
    "### <div class=consignes>Calcul du Pitch</div>"
   ]
  },
  {
   "cell_type": "markdown",
   "id": "e758b5f0",
   "metadata": {},
   "source": [
    "<div class=consignes>Proposez une méthode simple pour estimer automatiquement le Pitch de votre voix (cette méthode ne doit pas faire intervenir d'implémentations externes).\n",
    "\n",
    "Utilisez cette méthode pour estimer les variations du Pitch le long du signal, estimez le pitch toutes les 20 ms et présentez vos résultats sous forme visuelle. \n",
    "\n",
    "Ne pas utiliser de méthode \"toute faite\" que vous pourriez par exemple trouver dans la bibliothèque librosa.\n",
    "\n",
    "Commentez vos résultats.\n",
    "    </div>"
   ]
  },
  {
   "cell_type": "code",
   "execution_count": null,
   "id": "98ed972f",
   "metadata": {},
   "outputs": [],
   "source": []
  },
  {
   "cell_type": "markdown",
   "id": "56250468",
   "metadata": {},
   "source": [
    "## <div class=consignes>Partie 2: Détection d'impulsion </div>"
   ]
  },
  {
   "cell_type": "markdown",
   "id": "b74f9366",
   "metadata": {},
   "source": [
    "<div class=consignes> Un signal de durée 1 seconde et échantillonné à 1000 Hz est composé d'un bruit blanc gaussien de puissance inconnue et éventuellement d'une impulsion à une fréquence f0 comprise entre 100 et 200 Hz. \n",
    "<br><br>\n",
    "Une série de 1000 signaux est enregistrée dans le fichier signaux_impulsions.npz. \n",
    "Ouvez ce fichier avec numpy (cf code plus bas). Le fichier contient une tableau signaux 10000 x 1000 dont chaque ligne contient un signal de durée 1000. Le fichiez contient aussi un tableau labels de taille 10000 dont la ligne i est à TRUE si le signal i contient une impulsion et à 0 sinon. \n",
    "\n",
    "</div>"
   ]
  },
  {
   "cell_type": "code",
   "execution_count": null,
   "id": "7b901114",
   "metadata": {},
   "outputs": [],
   "source": [
    "donnees = np.load('signaux_impulsions.npz')\n",
    "signaux = donnees['signaux']\n",
    "labels = donnees['labels']"
   ]
  },
  {
   "cell_type": "markdown",
   "id": "3cf6506d",
   "metadata": {},
   "source": [
    "## <div class=consignes> Première méthode </div>"
   ]
  },
  {
   "cell_type": "markdown",
   "id": "e326816f",
   "metadata": {},
   "source": [
    "<div class=consignes> Proposez une méthode simple  pour décider si un signal contient une impulsion ou non à partir du calcul de l'énergie du signal. Cette méthode fera intervenir un seuil: \n",
    "</div>\n",
    "\n",
    "```python\n",
    "def contient_impulsion_energie(signal: np.ndarray, seuil: float) -> bool:\n",
    "```"
   ]
  },
  {
   "cell_type": "code",
   "execution_count": null,
   "id": "364a21d5",
   "metadata": {},
   "outputs": [],
   "source": []
  },
  {
   "cell_type": "markdown",
   "id": "4b11b490",
   "metadata": {},
   "source": [
    "<div class=consignes>\n",
    "Utilisez votre méthode avec un seuil fixé sur tous les signaux pour prédire s'ils contiennent une impulsion ou non. \n",
    "</div>"
   ]
  },
  {
   "cell_type": "code",
   "execution_count": null,
   "id": "0274b970",
   "metadata": {},
   "outputs": [],
   "source": []
  },
  {
   "cell_type": "markdown",
   "id": "630e2a9f",
   "metadata": {},
   "source": [
    "<div class=consignes>\n",
    "Calculez: <br>\n",
    "- VP = le nombre de signaux que vous détectez comme contenant une impulsion qui contiennet effectivement une impulsion <br>\n",
    "- FP = le nombre de signaux que vous détectez comme contenant une impulsion qui ne contiennet en fait PAS une impulsion <br>\n",
    "- VN = le nombre de signaux que vous détectez comme ne contenant PAS une impulsion qui ne contiennet effectivement PAS une impulsion<br>\n",
    "- FN = le nombre de signaux que vous détectez comme ne contenant PAS une impulsion mais qui  contiennet en fait une impulsion\n",
    "</div>"
   ]
  },
  {
   "cell_type": "code",
   "execution_count": null,
   "id": "a927f0d3",
   "metadata": {},
   "outputs": [],
   "source": []
  },
  {
   "cell_type": "markdown",
   "id": "57922bdd",
   "metadata": {},
   "source": [
    "## <div class=consignes>Deuxième méthode </div>"
   ]
  },
  {
   "cell_type": "markdown",
   "id": "9d32139d",
   "metadata": {},
   "source": [
    "<div class=consignes>Proposez une deuxième méthode faisant par exemple intervenir le spectrogramme du signal. Cette méthode fera encore intervenir un seuil\n",
    "</div>\n",
    "\n",
    "```python\n",
    "def contient_impulsion_spectrogramme(signal: np.ndarray, seuil: float) -> bool:\n",
    "```\n"
   ]
  },
  {
   "cell_type": "code",
   "execution_count": null,
   "id": "4efbeff9",
   "metadata": {},
   "outputs": [],
   "source": []
  },
  {
   "cell_type": "markdown",
   "id": "9742bb44",
   "metadata": {},
   "source": [
    "<div class=consignes> Calculez pour cette nouvelle méthode, pour un certain seuil les valeurs de VP, FP, VN, FN </div>"
   ]
  },
  {
   "cell_type": "markdown",
   "id": "65f79180",
   "metadata": {},
   "source": [
    "## <div class=consignes> Comparaison des méthodes </sdivs>"
   ]
  },
  {
   "cell_type": "markdown",
   "id": "7bcbac95",
   "metadata": {},
   "source": [
    "<div class=consignes>Pour une méthode de détection et un seuil donné, la précision est définie comme: \n",
    "$$ \\frac{\\sharp\\text{Signaux détectés comme contenant une impulsion qui en contiennent effectivement une}}{\\sharp\\text{Signaux détectés comme positifs }}$$\n",
    "et le rappel comme:\n",
    "$$ \\frac{\\sharp\\text{Signaux détectés comme contenant une impulsion qui en contiennent effectivement une}}{\\sharp \\text{Signaux contenant une impulsions}} $$\n",
    "    \n",
    "</div>"
   ]
  },
  {
   "cell_type": "markdown",
   "id": "eae56570",
   "metadata": {},
   "source": [
    "<div class=consignes> Donnez une interprétation de ces deux métriques </div>"
   ]
  },
  {
   "cell_type": "code",
   "execution_count": null,
   "id": "4994cb00",
   "metadata": {},
   "outputs": [],
   "source": []
  },
  {
   "cell_type": "markdown",
   "id": "6fcd046e",
   "metadata": {},
   "source": [
    "<div class=consignes>\n",
    "    Pour chacune des deux méthodes proposées, faites varier le seuil sur une dizaine de valeurs et calculez la précision et le rappel pour chacun de ces seuils. \n",
    "\n",
    "Affichez dans le plan (précision , rappel) les points de fonctionnement des deux méthodes pour différents seuils. <br>Commentez le résultat. \n",
    "    </div>"
   ]
  },
  {
   "cell_type": "code",
   "execution_count": null,
   "id": "39a38e57",
   "metadata": {},
   "outputs": [],
   "source": []
  },
  {
   "cell_type": "code",
   "execution_count": null,
   "id": "0d21a712",
   "metadata": {},
   "outputs": [],
   "source": []
  }
 ],
 "metadata": {
  "kernelspec": {
   "display_name": "Python 3 (ipykernel)",
   "language": "python",
   "name": "python3"
  },
  "language_info": {
   "codemirror_mode": {
    "name": "ipython",
    "version": 3
   },
   "file_extension": ".py",
   "mimetype": "text/x-python",
   "name": "python",
   "nbconvert_exporter": "python",
   "pygments_lexer": "ipython3",
   "version": "3.12.3"
  }
 },
 "nbformat": 4,
 "nbformat_minor": 5
}
